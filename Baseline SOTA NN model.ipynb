{
  "cells": [
    {
      "cell_type": "code",
      "execution_count": 1,
      "id": "2feb9ec5",
      "metadata": {
        "id": "2feb9ec5",
        "outputId": "22b93d5a-11b9-46ac-d91d-41871ca9b5ca",
        "colab": {
          "base_uri": "https://localhost:8080/"
        }
      },
      "outputs": [
        {
          "output_type": "stream",
          "name": "stdout",
          "text": [
            "Mounted at /content/drive\n"
          ]
        }
      ],
      "source": [
        "from google.colab import drive\n",
        "drive.mount('/content/drive')"
      ]
    },
    {
      "cell_type": "code",
      "source": [
        "import numpy as np\n",
        "import pandas as pd\n",
        "from keras.models import Sequential\n",
        "from keras.layers import Dense, Dropout, Activation, Flatten, BatchNormalization\n",
        "from keras.layers import Convolution2D, MaxPooling2D, SeparableConv2D\n",
        "from keras.regularizers import l2\n",
        "import librosa"
      ],
      "metadata": {
        "id": "gKRz5CHU28fM"
      },
      "id": "gKRz5CHU28fM",
      "execution_count": 5,
      "outputs": []
    },
    {
      "cell_type": "markdown",
      "source": [
        "# 0. Disclaimer\n",
        "- The purpose of this notebook is to experiment with the model and how the inputs are derived and not maximum performance, so only a small part of the dataset is used. i.e. the 1st fold"
      ],
      "metadata": {
        "id": "SH_WTMUw2r8g"
      },
      "id": "SH_WTMUw2r8g"
    },
    {
      "cell_type": "markdown",
      "source": [
        "# 1. Data Preprocessing and feature extraction\n",
        "- Data Augmentation using time and pitch shifts on audio samples\n",
        "- Paper uses time-frequency patches that are extracted from the log-scaled mel-spectrogram as input into the model."
      ],
      "metadata": {
        "id": "qjDellFbAzZi"
      },
      "id": "qjDellFbAzZi"
    },
    {
      "cell_type": "markdown",
      "source": [
        "## 1.1 Reading in data using librosa"
      ],
      "metadata": {
        "id": "Xyr2yFagSJm8"
      },
      "id": "Xyr2yFagSJm8"
    },
    {
      "cell_type": "code",
      "source": [
        "home_dir = \"/content/drive/MyDrive/Urban Sound audio files/UrbanSound8K/\"\n",
        "metadata = pd.read_csv(home_dir+\"metadata/UrbanSound8K.csv\")\n",
        "metadata.head()"
      ],
      "metadata": {
        "id": "qEVPex7sAyl0",
        "outputId": "629cef26-74b3-4696-8b13-397e00d0a29a",
        "colab": {
          "base_uri": "https://localhost:8080/",
          "height": 206
        }
      },
      "id": "qEVPex7sAyl0",
      "execution_count": 7,
      "outputs": [
        {
          "output_type": "execute_result",
          "data": {
            "text/plain": [
              "      slice_file_name    fsID  start        end  salience  fold  classID  \\\n",
              "0    100032-3-0-0.wav  100032    0.0   0.317551         1     5        3   \n",
              "1  100263-2-0-117.wav  100263   58.5  62.500000         1     5        2   \n",
              "2  100263-2-0-121.wav  100263   60.5  64.500000         1     5        2   \n",
              "3  100263-2-0-126.wav  100263   63.0  67.000000         1     5        2   \n",
              "4  100263-2-0-137.wav  100263   68.5  72.500000         1     5        2   \n",
              "\n",
              "              class  \n",
              "0          dog_bark  \n",
              "1  children_playing  \n",
              "2  children_playing  \n",
              "3  children_playing  \n",
              "4  children_playing  "
            ],
            "text/html": [
              "\n",
              "  <div id=\"df-d9bc6683-5f73-4a71-a31a-1c63b22b6f4a\" class=\"colab-df-container\">\n",
              "    <div>\n",
              "<style scoped>\n",
              "    .dataframe tbody tr th:only-of-type {\n",
              "        vertical-align: middle;\n",
              "    }\n",
              "\n",
              "    .dataframe tbody tr th {\n",
              "        vertical-align: top;\n",
              "    }\n",
              "\n",
              "    .dataframe thead th {\n",
              "        text-align: right;\n",
              "    }\n",
              "</style>\n",
              "<table border=\"1\" class=\"dataframe\">\n",
              "  <thead>\n",
              "    <tr style=\"text-align: right;\">\n",
              "      <th></th>\n",
              "      <th>slice_file_name</th>\n",
              "      <th>fsID</th>\n",
              "      <th>start</th>\n",
              "      <th>end</th>\n",
              "      <th>salience</th>\n",
              "      <th>fold</th>\n",
              "      <th>classID</th>\n",
              "      <th>class</th>\n",
              "    </tr>\n",
              "  </thead>\n",
              "  <tbody>\n",
              "    <tr>\n",
              "      <th>0</th>\n",
              "      <td>100032-3-0-0.wav</td>\n",
              "      <td>100032</td>\n",
              "      <td>0.0</td>\n",
              "      <td>0.317551</td>\n",
              "      <td>1</td>\n",
              "      <td>5</td>\n",
              "      <td>3</td>\n",
              "      <td>dog_bark</td>\n",
              "    </tr>\n",
              "    <tr>\n",
              "      <th>1</th>\n",
              "      <td>100263-2-0-117.wav</td>\n",
              "      <td>100263</td>\n",
              "      <td>58.5</td>\n",
              "      <td>62.500000</td>\n",
              "      <td>1</td>\n",
              "      <td>5</td>\n",
              "      <td>2</td>\n",
              "      <td>children_playing</td>\n",
              "    </tr>\n",
              "    <tr>\n",
              "      <th>2</th>\n",
              "      <td>100263-2-0-121.wav</td>\n",
              "      <td>100263</td>\n",
              "      <td>60.5</td>\n",
              "      <td>64.500000</td>\n",
              "      <td>1</td>\n",
              "      <td>5</td>\n",
              "      <td>2</td>\n",
              "      <td>children_playing</td>\n",
              "    </tr>\n",
              "    <tr>\n",
              "      <th>3</th>\n",
              "      <td>100263-2-0-126.wav</td>\n",
              "      <td>100263</td>\n",
              "      <td>63.0</td>\n",
              "      <td>67.000000</td>\n",
              "      <td>1</td>\n",
              "      <td>5</td>\n",
              "      <td>2</td>\n",
              "      <td>children_playing</td>\n",
              "    </tr>\n",
              "    <tr>\n",
              "      <th>4</th>\n",
              "      <td>100263-2-0-137.wav</td>\n",
              "      <td>100263</td>\n",
              "      <td>68.5</td>\n",
              "      <td>72.500000</td>\n",
              "      <td>1</td>\n",
              "      <td>5</td>\n",
              "      <td>2</td>\n",
              "      <td>children_playing</td>\n",
              "    </tr>\n",
              "  </tbody>\n",
              "</table>\n",
              "</div>\n",
              "    <div class=\"colab-df-buttons\">\n",
              "\n",
              "  <div class=\"colab-df-container\">\n",
              "    <button class=\"colab-df-convert\" onclick=\"convertToInteractive('df-d9bc6683-5f73-4a71-a31a-1c63b22b6f4a')\"\n",
              "            title=\"Convert this dataframe to an interactive table.\"\n",
              "            style=\"display:none;\">\n",
              "\n",
              "  <svg xmlns=\"http://www.w3.org/2000/svg\" height=\"24px\" viewBox=\"0 -960 960 960\">\n",
              "    <path d=\"M120-120v-720h720v720H120Zm60-500h600v-160H180v160Zm220 220h160v-160H400v160Zm0 220h160v-160H400v160ZM180-400h160v-160H180v160Zm440 0h160v-160H620v160ZM180-180h160v-160H180v160Zm440 0h160v-160H620v160Z\"/>\n",
              "  </svg>\n",
              "    </button>\n",
              "\n",
              "  <style>\n",
              "    .colab-df-container {\n",
              "      display:flex;\n",
              "      gap: 12px;\n",
              "    }\n",
              "\n",
              "    .colab-df-convert {\n",
              "      background-color: #E8F0FE;\n",
              "      border: none;\n",
              "      border-radius: 50%;\n",
              "      cursor: pointer;\n",
              "      display: none;\n",
              "      fill: #1967D2;\n",
              "      height: 32px;\n",
              "      padding: 0 0 0 0;\n",
              "      width: 32px;\n",
              "    }\n",
              "\n",
              "    .colab-df-convert:hover {\n",
              "      background-color: #E2EBFA;\n",
              "      box-shadow: 0px 1px 2px rgba(60, 64, 67, 0.3), 0px 1px 3px 1px rgba(60, 64, 67, 0.15);\n",
              "      fill: #174EA6;\n",
              "    }\n",
              "\n",
              "    .colab-df-buttons div {\n",
              "      margin-bottom: 4px;\n",
              "    }\n",
              "\n",
              "    [theme=dark] .colab-df-convert {\n",
              "      background-color: #3B4455;\n",
              "      fill: #D2E3FC;\n",
              "    }\n",
              "\n",
              "    [theme=dark] .colab-df-convert:hover {\n",
              "      background-color: #434B5C;\n",
              "      box-shadow: 0px 1px 3px 1px rgba(0, 0, 0, 0.15);\n",
              "      filter: drop-shadow(0px 1px 2px rgba(0, 0, 0, 0.3));\n",
              "      fill: #FFFFFF;\n",
              "    }\n",
              "  </style>\n",
              "\n",
              "    <script>\n",
              "      const buttonEl =\n",
              "        document.querySelector('#df-d9bc6683-5f73-4a71-a31a-1c63b22b6f4a button.colab-df-convert');\n",
              "      buttonEl.style.display =\n",
              "        google.colab.kernel.accessAllowed ? 'block' : 'none';\n",
              "\n",
              "      async function convertToInteractive(key) {\n",
              "        const element = document.querySelector('#df-d9bc6683-5f73-4a71-a31a-1c63b22b6f4a');\n",
              "        const dataTable =\n",
              "          await google.colab.kernel.invokeFunction('convertToInteractive',\n",
              "                                                    [key], {});\n",
              "        if (!dataTable) return;\n",
              "\n",
              "        const docLinkHtml = 'Like what you see? Visit the ' +\n",
              "          '<a target=\"_blank\" href=https://colab.research.google.com/notebooks/data_table.ipynb>data table notebook</a>'\n",
              "          + ' to learn more about interactive tables.';\n",
              "        element.innerHTML = '';\n",
              "        dataTable['output_type'] = 'display_data';\n",
              "        await google.colab.output.renderOutput(dataTable, element);\n",
              "        const docLink = document.createElement('div');\n",
              "        docLink.innerHTML = docLinkHtml;\n",
              "        element.appendChild(docLink);\n",
              "      }\n",
              "    </script>\n",
              "  </div>\n",
              "\n",
              "\n",
              "<div id=\"df-ef8b16b5-a4ac-465c-a54c-96a2b73383de\">\n",
              "  <button class=\"colab-df-quickchart\" onclick=\"quickchart('df-ef8b16b5-a4ac-465c-a54c-96a2b73383de')\"\n",
              "            title=\"Suggest charts\"\n",
              "            style=\"display:none;\">\n",
              "\n",
              "<svg xmlns=\"http://www.w3.org/2000/svg\" height=\"24px\"viewBox=\"0 0 24 24\"\n",
              "     width=\"24px\">\n",
              "    <g>\n",
              "        <path d=\"M19 3H5c-1.1 0-2 .9-2 2v14c0 1.1.9 2 2 2h14c1.1 0 2-.9 2-2V5c0-1.1-.9-2-2-2zM9 17H7v-7h2v7zm4 0h-2V7h2v10zm4 0h-2v-4h2v4z\"/>\n",
              "    </g>\n",
              "</svg>\n",
              "  </button>\n",
              "\n",
              "<style>\n",
              "  .colab-df-quickchart {\n",
              "      --bg-color: #E8F0FE;\n",
              "      --fill-color: #1967D2;\n",
              "      --hover-bg-color: #E2EBFA;\n",
              "      --hover-fill-color: #174EA6;\n",
              "      --disabled-fill-color: #AAA;\n",
              "      --disabled-bg-color: #DDD;\n",
              "  }\n",
              "\n",
              "  [theme=dark] .colab-df-quickchart {\n",
              "      --bg-color: #3B4455;\n",
              "      --fill-color: #D2E3FC;\n",
              "      --hover-bg-color: #434B5C;\n",
              "      --hover-fill-color: #FFFFFF;\n",
              "      --disabled-bg-color: #3B4455;\n",
              "      --disabled-fill-color: #666;\n",
              "  }\n",
              "\n",
              "  .colab-df-quickchart {\n",
              "    background-color: var(--bg-color);\n",
              "    border: none;\n",
              "    border-radius: 50%;\n",
              "    cursor: pointer;\n",
              "    display: none;\n",
              "    fill: var(--fill-color);\n",
              "    height: 32px;\n",
              "    padding: 0;\n",
              "    width: 32px;\n",
              "  }\n",
              "\n",
              "  .colab-df-quickchart:hover {\n",
              "    background-color: var(--hover-bg-color);\n",
              "    box-shadow: 0 1px 2px rgba(60, 64, 67, 0.3), 0 1px 3px 1px rgba(60, 64, 67, 0.15);\n",
              "    fill: var(--button-hover-fill-color);\n",
              "  }\n",
              "\n",
              "  .colab-df-quickchart-complete:disabled,\n",
              "  .colab-df-quickchart-complete:disabled:hover {\n",
              "    background-color: var(--disabled-bg-color);\n",
              "    fill: var(--disabled-fill-color);\n",
              "    box-shadow: none;\n",
              "  }\n",
              "\n",
              "  .colab-df-spinner {\n",
              "    border: 2px solid var(--fill-color);\n",
              "    border-color: transparent;\n",
              "    border-bottom-color: var(--fill-color);\n",
              "    animation:\n",
              "      spin 1s steps(1) infinite;\n",
              "  }\n",
              "\n",
              "  @keyframes spin {\n",
              "    0% {\n",
              "      border-color: transparent;\n",
              "      border-bottom-color: var(--fill-color);\n",
              "      border-left-color: var(--fill-color);\n",
              "    }\n",
              "    20% {\n",
              "      border-color: transparent;\n",
              "      border-left-color: var(--fill-color);\n",
              "      border-top-color: var(--fill-color);\n",
              "    }\n",
              "    30% {\n",
              "      border-color: transparent;\n",
              "      border-left-color: var(--fill-color);\n",
              "      border-top-color: var(--fill-color);\n",
              "      border-right-color: var(--fill-color);\n",
              "    }\n",
              "    40% {\n",
              "      border-color: transparent;\n",
              "      border-right-color: var(--fill-color);\n",
              "      border-top-color: var(--fill-color);\n",
              "    }\n",
              "    60% {\n",
              "      border-color: transparent;\n",
              "      border-right-color: var(--fill-color);\n",
              "    }\n",
              "    80% {\n",
              "      border-color: transparent;\n",
              "      border-right-color: var(--fill-color);\n",
              "      border-bottom-color: var(--fill-color);\n",
              "    }\n",
              "    90% {\n",
              "      border-color: transparent;\n",
              "      border-bottom-color: var(--fill-color);\n",
              "    }\n",
              "  }\n",
              "</style>\n",
              "\n",
              "  <script>\n",
              "    async function quickchart(key) {\n",
              "      const quickchartButtonEl =\n",
              "        document.querySelector('#' + key + ' button');\n",
              "      quickchartButtonEl.disabled = true;  // To prevent multiple clicks.\n",
              "      quickchartButtonEl.classList.add('colab-df-spinner');\n",
              "      try {\n",
              "        const charts = await google.colab.kernel.invokeFunction(\n",
              "            'suggestCharts', [key], {});\n",
              "      } catch (error) {\n",
              "        console.error('Error during call to suggestCharts:', error);\n",
              "      }\n",
              "      quickchartButtonEl.classList.remove('colab-df-spinner');\n",
              "      quickchartButtonEl.classList.add('colab-df-quickchart-complete');\n",
              "    }\n",
              "    (() => {\n",
              "      let quickchartButtonEl =\n",
              "        document.querySelector('#df-ef8b16b5-a4ac-465c-a54c-96a2b73383de button');\n",
              "      quickchartButtonEl.style.display =\n",
              "        google.colab.kernel.accessAllowed ? 'block' : 'none';\n",
              "    })();\n",
              "  </script>\n",
              "</div>\n",
              "\n",
              "    </div>\n",
              "  </div>\n"
            ],
            "application/vnd.google.colaboratory.intrinsic+json": {
              "type": "dataframe",
              "variable_name": "metadata",
              "summary": "{\n  \"name\": \"metadata\",\n  \"rows\": 8732,\n  \"fields\": [\n    {\n      \"column\": \"slice_file_name\",\n      \"properties\": {\n        \"dtype\": \"string\",\n        \"num_unique_values\": 8732,\n        \"samples\": [\n          \"54898-8-0-2.wav\",\n          \"172338-9-0-7.wav\",\n          \"95562-4-3-0.wav\"\n        ],\n        \"semantic_type\": \"\",\n        \"description\": \"\"\n      }\n    },\n    {\n      \"column\": \"fsID\",\n      \"properties\": {\n        \"dtype\": \"number\",\n        \"std\": 57991,\n        \"min\": 344,\n        \"max\": 209992,\n        \"num_unique_values\": 1297,\n        \"samples\": [\n          180257,\n          157940,\n          20015\n        ],\n        \"semantic_type\": \"\",\n        \"description\": \"\"\n      }\n    },\n    {\n      \"column\": \"start\",\n      \"properties\": {\n        \"dtype\": \"number\",\n        \"std\": 74.29212630755421,\n        \"min\": 0.0,\n        \"max\": 600.125356,\n        \"num_unique_values\": 4878,\n        \"samples\": [\n          10.038318,\n          5.711988,\n          4.634753\n        ],\n        \"semantic_type\": \"\",\n        \"description\": \"\"\n      }\n    },\n    {\n      \"column\": \"end\",\n      \"properties\": {\n        \"dtype\": \"number\",\n        \"std\": 74.36966935075833,\n        \"min\": 0.105962,\n        \"max\": 604.125356,\n        \"num_unique_values\": 5020,\n        \"samples\": [\n          13.168347,\n          2.653802,\n          10.286916\n        ],\n        \"semantic_type\": \"\",\n        \"description\": \"\"\n      }\n    },\n    {\n      \"column\": \"salience\",\n      \"properties\": {\n        \"dtype\": \"number\",\n        \"std\": 0,\n        \"min\": 1,\n        \"max\": 2,\n        \"num_unique_values\": 2,\n        \"samples\": [\n          2,\n          1\n        ],\n        \"semantic_type\": \"\",\n        \"description\": \"\"\n      }\n    },\n    {\n      \"column\": \"fold\",\n      \"properties\": {\n        \"dtype\": \"number\",\n        \"std\": 2,\n        \"min\": 1,\n        \"max\": 10,\n        \"num_unique_values\": 10,\n        \"samples\": [\n          3,\n          10\n        ],\n        \"semantic_type\": \"\",\n        \"description\": \"\"\n      }\n    },\n    {\n      \"column\": \"classID\",\n      \"properties\": {\n        \"dtype\": \"number\",\n        \"std\": 2,\n        \"min\": 0,\n        \"max\": 9,\n        \"num_unique_values\": 10,\n        \"samples\": [\n          7,\n          2\n        ],\n        \"semantic_type\": \"\",\n        \"description\": \"\"\n      }\n    },\n    {\n      \"column\": \"class\",\n      \"properties\": {\n        \"dtype\": \"category\",\n        \"num_unique_values\": 10,\n        \"samples\": [\n          \"jackhammer\",\n          \"children_playing\"\n        ],\n        \"semantic_type\": \"\",\n        \"description\": \"\"\n      }\n    }\n  ]\n}"
            }
          },
          "metadata": {},
          "execution_count": 7
        }
      ]
    },
    {
      "cell_type": "code",
      "source": [
        "fold_1_metadata = metadata[metadata[\"fold\"] == 1]"
      ],
      "metadata": {
        "id": "0HJJrPw_33Mj"
      },
      "id": "0HJJrPw_33Mj",
      "execution_count": 9,
      "outputs": []
    },
    {
      "cell_type": "markdown",
      "source": [
        "## 1.2. Data Augmentation\n",
        "- Time-shifiting : [0.81, 0.93, 1.07, 1.23]\n",
        "- Pitch-shifting I : [-2, -1, 1, 2]\n",
        "- Pitch-shifting II : [-3.5, -2.5, 2.5, 3.5]"
      ],
      "metadata": {
        "id": "rRx0r-i60uOC"
      },
      "id": "rRx0r-i60uOC"
    },
    {
      "cell_type": "code",
      "source": [
        "def augmentations(audio, sr):\n",
        "\n",
        "    ts  = [ 0.81, 0.93, 1.07, 1.23]\n",
        "    ps = [ -2, -1, 1, 2, -3.5, -2.5, 2.5, 3.5 ]\n",
        "\n",
        "    out = {}\n",
        "    for stretch in ts:\n",
        "        name = 'ts{:.2f}'.format(stretch)\n",
        "        out[name] = librosa.effects.time_stretch(audio, rate = stretch)\n",
        "\n",
        "    for shift in ps:\n",
        "        name = 'ps{:.2f}'.format(shift)\n",
        "        out[name] = librosa.effects.pitch_shift(audio, sr = sr, n_steps = shift)\n",
        "\n",
        "    return out"
      ],
      "metadata": {
        "id": "gjM6SAgP32dj"
      },
      "id": "gjM6SAgP32dj",
      "execution_count": 21,
      "outputs": []
    },
    {
      "cell_type": "code",
      "source": [
        "def file_parser(file_name):\n",
        "  wave,sr = librosa.load(home_dir+\"audio/fold1/\"+file_name)\n",
        "  return wave,sr\n",
        "\n",
        "# wave, sr = librosa.load(home_dir+\"audio/fold1/\"+fold_1_metadata.iloc[0].slice_file_name)\n",
        "# output = augmentations(wave,sr)\n",
        "# len(output.keys())"
      ],
      "metadata": {
        "id": "wltcnyfx1zWk"
      },
      "id": "wltcnyfx1zWk",
      "execution_count": 24,
      "outputs": []
    },
    {
      "cell_type": "markdown",
      "source": [
        "## 1.2 Extracting log-scaled mel spectrogram using librosa"
      ],
      "metadata": {
        "id": "j2SfE9jHSRna"
      },
      "id": "j2SfE9jHSRna"
    },
    {
      "cell_type": "code",
      "source": [
        "# These parameters are the same ones used in Sound Classification with constrained resources paper\n",
        "from librosa.feature import melspectrogram\n",
        "settings = {}\n",
        "settings[\"n_mels\"] = 60\n",
        "settings[\"n_fft\"] = 1024\n",
        "settings[\"hop_length\"] = 512\n",
        "settings[\"fmin\"] = 0\n",
        "settings[\"fmax\"] = 22050\n",
        "\n",
        "\n",
        "def compute_mels(y, sr, settings):\n",
        "    mels = melspectrogram(y=y, sr=sr,\n",
        "                         n_mels=settings['n_mels'],\n",
        "                         n_fft=settings['n_fft'],\n",
        "                         hop_length=settings['hop_length'],\n",
        "                         fmin=settings['fmin'],\n",
        "                         fmax=settings['fmax'])\n",
        "    return mels"
      ],
      "metadata": {
        "id": "u3HTSahPAy4D"
      },
      "id": "u3HTSahPAy4D",
      "execution_count": 29,
      "outputs": []
    },
    {
      "cell_type": "code",
      "source": [
        "wave,sr = librosa.load(home_dir+\"audio/fold1/\"+fold_1_metadata.iloc[0].slice_file_name)\n",
        "mel_matrix = compute_mels(wave,sr,settings)\n",
        "# 60 Mel Bands and 173 FFT windows (taken from original wave length, window length and hop_size)\n",
        "mel_matrix.shape"
      ],
      "metadata": {
        "id": "1cxGXkyq-_9n",
        "outputId": "c8ddd25d-800a-45bc-8328-e4725054b793",
        "colab": {
          "base_uri": "https://localhost:8080/"
        }
      },
      "id": "1cxGXkyq-_9n",
      "execution_count": 32,
      "outputs": [
        {
          "output_type": "execute_result",
          "data": {
            "text/plain": [
              "(60, 173)"
            ]
          },
          "metadata": {},
          "execution_count": 32
        }
      ]
    },
    {
      "cell_type": "markdown",
      "source": [
        "## 1.3 Getting the TF patches\n",
        "- The process is to split each Mel-Spectrogram into random 3s TF patches."
      ],
      "metadata": {
        "id": "vx4foztkSU1f"
      },
      "id": "vx4foztkSU1f"
    },
    {
      "cell_type": "code",
      "source": [],
      "metadata": {
        "id": "zKxfDBqEAzAE"
      },
      "id": "zKxfDBqEAzAE",
      "execution_count": null,
      "outputs": []
    },
    {
      "cell_type": "markdown",
      "source": [
        "# 2. Baseline model architecture\n",
        "- 3 Convolutional Layers\n",
        "- 2 Dense Linear Layers"
      ],
      "metadata": {
        "id": "kKEDBK-lAwYW"
      },
      "id": "kKEDBK-lAwYW"
    },
    {
      "cell_type": "code",
      "source": [
        "# Code heavily references the paper on Environmental Sound Classification on Microcontrollers using Convolutional Neural Networks\n",
        "# To check for how many channels we have\n",
        "\n",
        "frames=128 # Number of time frames we have\n",
        "bands=128 # Number of Mel Bands\n",
        "channels=1# Number of input channels, determines what kind of convolution we use\n",
        "num_labels=10 # Number of audio target labels\n",
        "conv_size=(5,5) # Size of each filter/kernel\n",
        "conv_block='conv'\n",
        "downsample_size=(4,2) # Stride size\n",
        "fully_connected=64 # Dense layer number of neurons\n",
        "n_stages=None\n",
        "n_blocks_per_stage=None\n",
        "filters=24\n",
        "kernels_growth=2 # After each convolutional layer, the paper includes growth of filter\n",
        "dropout=0.5\n",
        "use_strides=False\n",
        "\n",
        "Conv2 = SeparableConv2D if conv_block == 'depthwise_separable' else Convolution2D\n",
        "\n",
        "\n",
        "kernel = conv_size # Size of each filter/kernel\n",
        "if use_strides: # How much each filter moves\n",
        "  strides = downsample_size\n",
        "  pool = (1, 1)\n",
        "else:\n",
        "  strides = (1, 1)\n",
        "  pool = downsample_size\n",
        "\n",
        "# First Block assumes 2D Convolution i.e. input has one channel\n",
        "\n",
        "block1 = [\n",
        "  Convolution2D(filters, kernel, padding='same', strides=strides,\n",
        "  input_shape=(bands, frames, channels)),\n",
        "  BatchNormalization(),\n",
        "  MaxPooling2D(pool_size=pool),\n",
        "  Activation('relu'),\n",
        "  ]\n",
        "\n",
        "\n",
        "block2 = [\n",
        "  Conv2(filters*kernels_growth, kernel, padding='same', strides=strides),\n",
        "  BatchNormalization(),\n",
        "           MaxPooling2D(pool_size=pool),\n",
        "  Activation('relu'),\n",
        "]\n",
        "\n",
        "block3 = [\n",
        "  Conv2(filters*kernels_growth, kernel, padding='valid', strides=strides),\n",
        "  BatchNormalization(),\n",
        "  Activation('relu'),\n",
        "]\n",
        "\n",
        "backend = [\n",
        "  Flatten(),\n",
        "  Dropout(dropout),\n",
        "  Dense(fully_connected, kernel_regularizer=l2(0.001)),\n",
        "  Activation('relu'),\n",
        "  Dropout(dropout),\n",
        "  Dense(num_labels, kernel_regularizer=l2(0.001)),\n",
        "  Activation('softmax'),\n",
        "]\n",
        "layers = block1 + block2 + block3 + backend\n",
        "model = Sequential(layers)"
      ],
      "metadata": {
        "id": "GyokWruJ6GZ5"
      },
      "id": "GyokWruJ6GZ5",
      "execution_count": null,
      "outputs": []
    },
    {
      "cell_type": "markdown",
      "source": [
        "# Training the model\n",
        "1. Training Procedure\n",
        "- The model uses cross-entropy as loss function\n",
        "- Uses mini-batch SGD with 100 TF-patches randomly selected from training data\n",
        "- Predictions is the label with the highest mean prediction across each batch.\n"
      ],
      "metadata": {
        "id": "Mcf2ChrVpfbg"
      },
      "id": "Mcf2ChrVpfbg"
    },
    {
      "cell_type": "code",
      "source": [],
      "metadata": {
        "id": "hMbWc5b-per9"
      },
      "id": "hMbWc5b-per9",
      "execution_count": null,
      "outputs": []
    },
    {
      "cell_type": "markdown",
      "source": [
        "# Testing the model"
      ],
      "metadata": {
        "id": "-fmsJn7XphSt"
      },
      "id": "-fmsJn7XphSt"
    },
    {
      "cell_type": "code",
      "source": [],
      "metadata": {
        "id": "Q-9X62ZNpifT"
      },
      "id": "Q-9X62ZNpifT",
      "execution_count": null,
      "outputs": []
    }
  ],
  "metadata": {
    "kernelspec": {
      "display_name": "Python 3 (ipykernel)",
      "language": "python",
      "name": "python3"
    },
    "language_info": {
      "codemirror_mode": {
        "name": "ipython",
        "version": 3
      },
      "file_extension": ".py",
      "mimetype": "text/x-python",
      "name": "python",
      "nbconvert_exporter": "python",
      "pygments_lexer": "ipython3",
      "version": "3.7.16"
    },
    "colab": {
      "provenance": []
    }
  },
  "nbformat": 4,
  "nbformat_minor": 5
}