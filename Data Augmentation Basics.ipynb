{
  "cells": [
    {
      "cell_type": "markdown",
      "source": [
        "# Data Augmentation types\n",
        "## Raw-signal Augmentation\n",
        "- Time Shifting\n",
        "- Time Stretching\n",
        "- Pitch Scaling\n",
        "- Noise Addition\n",
        "- Polarity Inversion\n",
        "- Low/High/Pass Band Filters\n",
        "\n",
        "## Spectrogram Augmentations\n",
        "- Time masking\n",
        "- Frequency masking\n",
        "- Time stretching\n",
        "- Pitch Scaling\n",
        "\n",
        "## Recommended augmentation package for audio\n",
        "- Audiomentations"
      ],
      "metadata": {
        "id": "jDeNTcv-rscp"
      },
      "id": "jDeNTcv-rscp"
    },
    {
      "cell_type": "code",
      "source": [],
      "metadata": {
        "id": "GIn6ABSzsSay"
      },
      "id": "GIn6ABSzsSay",
      "execution_count": null,
      "outputs": []
    }
  ],
  "metadata": {
    "kernelspec": {
      "display_name": "Python 3 (ipykernel)",
      "language": "python",
      "name": "python3"
    },
    "language_info": {
      "codemirror_mode": {
        "name": "ipython",
        "version": 3
      },
      "file_extension": ".py",
      "mimetype": "text/x-python",
      "name": "python",
      "nbconvert_exporter": "python",
      "pygments_lexer": "ipython3",
      "version": "3.7.16"
    },
    "colab": {
      "provenance": []
    }
  },
  "nbformat": 4,
  "nbformat_minor": 5
}